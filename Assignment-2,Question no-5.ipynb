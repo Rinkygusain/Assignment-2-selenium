{
 "cells": [
  {
   "cell_type": "code",
   "execution_count": 36,
   "id": "d4f03ac5",
   "metadata": {},
   "outputs": [],
   "source": [
    "import selenium\n",
    "from selenium import webdriver\n",
    "import pandas as pd\n",
    "import warnings\n",
    "warnings.filterwarnings(\"ignore\")\n",
    "from time import sleep\n",
    "driver=webdriver.Chrome(r'/Users/rinki/Downloads/chromedriver')"
   ]
  },
  {
   "cell_type": "code",
   "execution_count": 71,
   "id": "cf77ba69",
   "metadata": {},
   "outputs": [],
   "source": [
    "url='https://www.flipkart.com/apple-iphone-11-black-64-gb-includes- earpods-power- adapter/p/itm0f37c2240b217?pid=MOBFKCTSVZAXUHGR&lid=LSTMOBFKC TSVZAXUHGREPBFGI&marketplace.'\n",
    "driver.get(url)\n"
   ]
  },
  {
   "cell_type": "code",
   "execution_count": 73,
   "id": "622a8f4f",
   "metadata": {},
   "outputs": [
    {
     "name": "stdout",
     "output_type": "stream",
     "text": [
      "scraping page 1\n",
      "scraping page 2\n",
      "scraping page 3\n",
      "scraping page 4\n",
      "scraping page 5\n",
      "scraping page 6\n",
      "scraping page 7\n",
      "scraping page 8\n",
      "scraping page 9\n",
      "scraping page 10\n"
     ]
    }
   ],
   "source": [
    "#scrape rating of iphone 11\n",
    "Rating=[]\n",
    "for i in range(10):\n",
    "    print('scraping page', i+1)\n",
    "    rating=driver.find_elements_by_xpath('//div[@class=\"_3LWZlK _1BLPMq\"]')\n",
    "    for i in rating:\n",
    "        Rating.append(i.text)\n",
    "    next=driver.find_element_by_xpath('/html/body/div[1]/div/div[3]/div/div/div[2]/div[13]/div/div/nav/a[11]')\n",
    "    next.click()\n",
    "    sleep(3)"
   ]
  },
  {
   "cell_type": "code",
   "execution_count": 56,
   "id": "e2d711bd",
   "metadata": {},
   "outputs": [
    {
     "name": "stdout",
     "output_type": "stream",
     "text": [
      "scraping page 1\n",
      "scraping page 2\n",
      "scraping page 3\n",
      "scraping page 4\n",
      "scraping page 5\n",
      "scraping page 6\n",
      "scraping page 7\n",
      "scraping page 8\n",
      "scraping page 9\n",
      "scraping page 10\n"
     ]
    }
   ],
   "source": [
    "#scarpe review of iphone11\n",
    "Review=[]\n",
    "for i in range(10):\n",
    "    print('scraping page', i+1)\n",
    "    review=driver.find_elements_by_xpath('//p[@class=\"_2-N8zT\"]')\n",
    "    for i in review:\n",
    "        Review.append(i.text)\n",
    "    next=driver.find_element_by_xpath('/html/body/div[1]/div/div[3]/div/div/div[2]/div[13]/div/div/nav/a[11]')\n",
    "    next.click()\n",
    "    sleep(3) "
   ]
  },
  {
   "cell_type": "code",
   "execution_count": 58,
   "id": "c731d017",
   "metadata": {},
   "outputs": [
    {
     "name": "stdout",
     "output_type": "stream",
     "text": [
      "scraping page 1\n",
      "scraping page 2\n",
      "scraping page 3\n",
      "scraping page 4\n",
      "scraping page 5\n",
      "scraping page 6\n",
      "scraping page 7\n",
      "scraping page 8\n",
      "scraping page 9\n",
      "scraping page 10\n"
     ]
    }
   ],
   "source": [
    "#scarpe Full review of iphone11\n",
    "Full_Review=[]\n",
    "for i in range(10):\n",
    "    print('scraping page', i+1)\n",
    "    full_review=driver.find_elements_by_xpath('//div[@class=\"t-ZTKy\"]')\n",
    "    for i in full_review:\n",
    "        Full_Review.append(i.text)\n",
    "    next=driver.find_element_by_xpath('/html/body/div[1]/div/div[3]/div/div/div[2]/div[13]/div/div/nav/a[11]')\n",
    "    next.click()\n",
    "    sleep(3) "
   ]
  },
  {
   "cell_type": "code",
   "execution_count": 75,
   "id": "7f3702f5",
   "metadata": {},
   "outputs": [
    {
     "data": {
      "text/plain": [
       "(98, 100, 100)"
      ]
     },
     "execution_count": 75,
     "metadata": {},
     "output_type": "execute_result"
    }
   ],
   "source": [
    "len(Rating),len(Review),len(Full_Review)"
   ]
  },
  {
   "cell_type": "code",
   "execution_count": null,
   "id": "e61a3828",
   "metadata": {},
   "outputs": [],
   "source": []
  }
 ],
 "metadata": {
  "kernelspec": {
   "display_name": "Python 3",
   "language": "python",
   "name": "python3"
  },
  "language_info": {
   "codemirror_mode": {
    "name": "ipython",
    "version": 3
   },
   "file_extension": ".py",
   "mimetype": "text/x-python",
   "name": "python",
   "nbconvert_exporter": "python",
   "pygments_lexer": "ipython3",
   "version": "3.8.8"
  }
 },
 "nbformat": 4,
 "nbformat_minor": 5
}
