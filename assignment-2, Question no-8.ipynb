{
 "cells": [
  {
   "cell_type": "code",
   "execution_count": 113,
   "id": "ff56e3c8",
   "metadata": {},
   "outputs": [],
   "source": [
    "import selenium\n",
    "from selenium import webdriver\n",
    "import pandas as pd\n",
    "import warnings\n",
    "warnings.filterwarnings(\"ignore\")\n",
    "driver=webdriver.Chrome(r'/Users/rinki/Downloads/chromedriver')"
   ]
  },
  {
   "cell_type": "code",
   "execution_count": 114,
   "id": "9bf76964",
   "metadata": {},
   "outputs": [],
   "source": [
    "url=' https://www.amazon.in/'\n",
    "driver.get(url)\n",
    "\n",
    "#enter laptop in the search field\n",
    "\n",
    "search_lap=driver.find_element_by_xpath('/html/body/div/header/div/div[1]/div[2]/div/form/div[2]/div[1]/input')\n",
    "search_lap\n",
    "\n",
    "search_lap.send_keys(\"Laptop\")\n",
    "\n",
    "#click on the search button\n",
    "search_btn=driver.find_element_by_xpath('/html/body/div[1]/header/div/div[1]/div[2]/div/form/div[3]/div/span/input')\n",
    "search_btn\n",
    "\n",
    "search_btn.click()\n",
    "\n"
   ]
  },
  {
   "cell_type": "code",
   "execution_count": 85,
   "id": "7807d252",
   "metadata": {},
   "outputs": [],
   "source": [
    "#select cpu intel core i7\n",
    "cpu_i7=driver.find_element_by_xpath('/html/body/div[1]/div[2]/div[1]/div[2]/div/div[3]/span/div[1]/div/div/div[6]/ul[5]/li[12]/span/a/div/label/i')\n",
    "cpu_i7\n",
    "\n",
    "cpu_i7.click()\n"
   ]
  },
  {
   "cell_type": "code",
   "execution_count": 92,
   "id": "43165d79",
   "metadata": {},
   "outputs": [
    {
     "data": {
      "text/plain": [
       "['₹86,999',\n",
       " '₹96,999',\n",
       " '₹77,999',\n",
       " '₹57,990',\n",
       " '₹89,999',\n",
       " '₹89,990',\n",
       " '₹89,390',\n",
       " '₹96,999',\n",
       " '₹86,290',\n",
       " '₹1,34,990']"
      ]
     },
     "execution_count": 92,
     "metadata": {},
     "output_type": "execute_result"
    }
   ],
   "source": [
    "\n",
    "#scrape top 10 title\n",
    "title=driver.find_elements_by_xpath('//h2[@class=\"a-size-mini a-spacing-none a-color-base s-line-clamp-2\"]')\n",
    "title\n",
    "\n",
    "Title=[]\n",
    "for i in title:\n",
    "    Title.append(i.text)\n",
    "Title[0:10]\n",
    "\n",
    "#scrape ratings\n",
    "price=driver.find_elements_by_xpath('//span[@class=\"a-price\"]')\n",
    "price\n",
    "\n",
    "Price=[]\n",
    "for i in price:\n",
    "    Price.append(i.text)\n",
    "Price[0:10]"
   ]
  },
  {
   "cell_type": "code",
   "execution_count": 91,
   "id": "90663df2",
   "metadata": {},
   "outputs": [
    {
     "data": {
      "text/plain": [
       "[]"
      ]
     },
     "execution_count": 91,
     "metadata": {},
     "output_type": "execute_result"
    }
   ],
   "source": [
    "#search rating\n",
    "\n",
    "rating_check=driver.find_element_by_xpath('//i[@class=\"a-icon a-icon-popover\"]')\n",
    "rating_check\n",
    "rating_check.click()\n",
    "\n",
    "ratings=driver.find_elements_by_xpath('//span[@class=\"a-size-medium a-color-base a-text-beside-button a-text-bold\"]')\n",
    "ratings\n",
    "\n",
    "Ratings=[]\n",
    "for i in ratings:\n",
    "    Ratings.append(i.text)\n",
    "Ratings"
   ]
  },
  {
   "cell_type": "code",
   "execution_count": 115,
   "id": "915e204e",
   "metadata": {},
   "outputs": [],
   "source": [
    "#select cpu intel core i9\n",
    "cpu_i9=driver.find_element_by_xpath('/html/body/div[1]/div[2]/div[1]/div[2]/div/div[3]/span/div[1]/div/div/div[5]/ul[4]/li[12]/span/a/div/label/i')\n",
    "cpu_i9\n",
    "\n",
    "cpu_i9.click()\n"
   ]
  },
  {
   "cell_type": "code",
   "execution_count": 116,
   "id": "560353ce",
   "metadata": {},
   "outputs": [
    {
     "data": {
      "text/plain": [
       "['₹37,499',\n",
       " '₹39,990',\n",
       " '₹3,23,061',\n",
       " '₹1,43,990',\n",
       " '₹1,54,890',\n",
       " '₹2,33,900',\n",
       " '₹47,990',\n",
       " '₹37,990',\n",
       " '₹1,45,990',\n",
       " '₹1,38,000']"
      ]
     },
     "execution_count": 116,
     "metadata": {},
     "output_type": "execute_result"
    }
   ],
   "source": [
    "\n",
    "#scrape top 10 title\n",
    "title=driver.find_elements_by_xpath('//h2[@class=\"a-size-mini a-spacing-none a-color-base s-line-clamp-2\"]')\n",
    "title\n",
    "\n",
    "Title=[]\n",
    "for i in title:\n",
    "    Title.append(i.text)\n",
    "Title[0:10]\n",
    "\n",
    "#scrape ratings\n",
    "price=driver.find_elements_by_xpath('//span[@class=\"a-price\"]')\n",
    "price\n",
    "\n",
    "Price=[]\n",
    "for i in price:\n",
    "    Price.append(i.text)\n",
    "Price[0:10]"
   ]
  },
  {
   "cell_type": "code",
   "execution_count": null,
   "id": "2fd01d29",
   "metadata": {},
   "outputs": [],
   "source": []
  }
 ],
 "metadata": {
  "kernelspec": {
   "display_name": "Python 3",
   "language": "python",
   "name": "python3"
  },
  "language_info": {
   "codemirror_mode": {
    "name": "ipython",
    "version": 3
   },
   "file_extension": ".py",
   "mimetype": "text/x-python",
   "name": "python",
   "nbconvert_exporter": "python",
   "pygments_lexer": "ipython3",
   "version": "3.8.8"
  }
 },
 "nbformat": 4,
 "nbformat_minor": 5
}
