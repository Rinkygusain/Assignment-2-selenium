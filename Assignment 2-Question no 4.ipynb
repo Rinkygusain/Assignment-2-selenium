{
 "cells": [
  {
   "cell_type": "code",
   "execution_count": 378,
   "id": "e56e15f2",
   "metadata": {},
   "outputs": [],
   "source": [
    "import selenium\n",
    "from selenium import webdriver\n",
    "import pandas as pd\n",
    "import warnings\n",
    "warnings.filterwarnings(\"ignore\")\n",
    "\n",
    "#open automated. chrome\n",
    "driver=webdriver.Chrome(r'/Users/rinki/Downloads/chromedriver')\n"
   ]
  },
  {
   "cell_type": "code",
   "execution_count": 438,
   "id": "78b4cf43",
   "metadata": {},
   "outputs": [],
   "source": [
    "#open the website\n",
    "url='https://www.flipkart.com/'\n",
    "driver.get(url)\n",
    "\n",
    "#search sunglasses\n",
    "\n",
    "search_product=driver.find_element_by_xpath('/html/body/div[1]/div/div[1]/div[1]/div[2]/div[2]/form/div/div/input')\n",
    "search_product\n",
    "\n",
    "search_product.send_keys(\"Sunglasses\")\n",
    "\n",
    "search_btn=driver.find_element_by_xpath('/html/body/div/div/div[1]/div[1]/div[2]/div[2]/form/div/button')\n",
    "search_btn\n",
    "\n",
    "search_btn.click()"
   ]
  },
  {
   "cell_type": "code",
   "execution_count": 383,
   "id": "4890ca6a",
   "metadata": {},
   "outputs": [
    {
     "data": {
      "text/plain": [
       "['ROZZETTA CRAFT',\n",
       " 'VINCENT CHASE',\n",
       " 'SRPM',\n",
       " 'SUNBEE',\n",
       " 'Elligator',\n",
       " 'PIRASO',\n",
       " 'Fastrack',\n",
       " 'Ray-Ban',\n",
       " 'DEIXELS',\n",
       " 'SHAAH COLLECTIONS',\n",
       " 'hipe',\n",
       " 'Ray-Ban',\n",
       " 'New Specs',\n",
       " 'SUNBEE',\n",
       " 'Lee Topper',\n",
       " 'Ray-Ban',\n",
       " 'Fastrack',\n",
       " 'SRPM',\n",
       " 'PIRASO',\n",
       " 'ROZZETTA CRAFT',\n",
       " 'PIRASO',\n",
       " 'PIRASO',\n",
       " 'kingsunglasses',\n",
       " 'ROZZETTA CRAFT',\n",
       " 'Lee Topper',\n",
       " 'kingsunglasses',\n",
       " 'GANSTA',\n",
       " 'ROYAL SON',\n",
       " 'SHAAH COLLECTIONS',\n",
       " 'Elligator',\n",
       " 'Silver Kartz',\n",
       " 'AISLIN',\n",
       " 'Elligator',\n",
       " 'PIRASO',\n",
       " 'ROYAL SON',\n",
       " 'Ray-Ban',\n",
       " 'kingsunglasses',\n",
       " 'PIRASO',\n",
       " 'SRPM',\n",
       " 'ROYAL SON']"
      ]
     },
     "execution_count": 383,
     "metadata": {},
     "output_type": "execute_result"
    }
   ],
   "source": [
    "#scrape product name\n",
    "product_name=driver.find_elements_by_xpath('//div[@class=\"_2WkVRV\"]')\n",
    "product_name\n",
    "\n",
    "Product_Name=[]\n",
    "for i in product_name:\n",
    "    Product_Name.append(i.text)\n",
    "Product_Name\n",
    "\n"
   ]
  },
  {
   "cell_type": "code",
   "execution_count": 385,
   "id": "635f6a5d",
   "metadata": {},
   "outputs": [
    {
     "data": {
      "text/plain": [
       "['Fastrack',\n",
       " 'kingsunglasses',\n",
       " 'SUNBEE',\n",
       " 'ZOSTAL',\n",
       " 'Fastrack',\n",
       " 'ROYAL SON',\n",
       " 'Silver Kartz',\n",
       " 'AISLIN',\n",
       " 'ROYAL SON',\n",
       " 'Rich Club',\n",
       " 'kingsunglasses',\n",
       " 'CRYSTAL CART',\n",
       " 'Fravy',\n",
       " 'hipe',\n",
       " 'ROYAL SON',\n",
       " 'AISLIN',\n",
       " 'PIRASO',\n",
       " 'New Specs',\n",
       " 'kingsunglasses',\n",
       " 'AISLIN',\n",
       " 'Fastrack',\n",
       " 'hipe',\n",
       " 'SUNBEE',\n",
       " 'VINCENT CHASE',\n",
       " 'Fastrack',\n",
       " 'GANSTA',\n",
       " 'hipe',\n",
       " 'ROYAL SON',\n",
       " 'AISLIN',\n",
       " 'NuVew',\n",
       " 'SUNBEE',\n",
       " 'ROYAL SON',\n",
       " 'ROYAL SON',\n",
       " 'povty',\n",
       " 'HIPPON',\n",
       " 'ROYAL SON',\n",
       " 'Fastrack',\n",
       " 'IDEE',\n",
       " 'Rich Club',\n",
       " 'NuVew']"
      ]
     },
     "execution_count": 385,
     "metadata": {},
     "output_type": "execute_result"
    }
   ],
   "source": [
    "#scrape 2nd page search button\n",
    "\n",
    "search_btn=driver.find_element_by_xpath('/html/body/div/div/div[3]/div[1]/div[2]/div[12]/div/div/nav/a[3]')\n",
    "search_btn\n",
    "\n",
    "search_btn.click()\n",
    "\n",
    "#scrape product name from page 2\n",
    "name=driver.find_elements_by_xpath('//div[@class=\"_2WkVRV\"]')\n",
    "name\n",
    "\n",
    "Name=[]\n",
    "for i in name:\n",
    "    Name.append(i.text)\n",
    "Name\n",
    "\n"
   ]
  },
  {
   "cell_type": "code",
   "execution_count": 472,
   "id": "ed5ad630",
   "metadata": {},
   "outputs": [
    {
     "name": "stdout",
     "output_type": "stream",
     "text": [
      "Product_Name: ['ROZZETTA CRAFT', 'VINCENT CHASE', 'SRPM', 'SUNBEE', 'Elligator', 'PIRASO', 'Fastrack', 'Ray-Ban', 'DEIXELS', 'SHAAH COLLECTIONS', 'hipe', 'Ray-Ban', 'New Specs', 'SUNBEE', 'Lee Topper', 'Ray-Ban', 'Fastrack', 'SRPM', 'PIRASO', 'ROZZETTA CRAFT', 'PIRASO', 'PIRASO', 'kingsunglasses', 'ROZZETTA CRAFT', 'Lee Topper', 'kingsunglasses', 'GANSTA', 'ROYAL SON', 'SHAAH COLLECTIONS', 'Elligator', 'Silver Kartz', 'AISLIN', 'Elligator', 'PIRASO', 'ROYAL SON', 'Ray-Ban', 'kingsunglasses', 'PIRASO', 'SRPM', 'ROYAL SON']\n",
      "Name: ['Fastrack', 'kingsunglasses', 'SUNBEE', 'ZOSTAL', 'Fastrack', 'ROYAL SON', 'Silver Kartz', 'AISLIN', 'ROYAL SON', 'Rich Club', 'kingsunglasses', 'CRYSTAL CART', 'Fravy', 'hipe', 'ROYAL SON', 'AISLIN', 'PIRASO', 'New Specs', 'kingsunglasses', 'AISLIN', 'Fastrack', 'hipe', 'SUNBEE', 'VINCENT CHASE', 'Fastrack', 'GANSTA', 'hipe', 'ROYAL SON', 'AISLIN', 'NuVew', 'SUNBEE', 'ROYAL SON', 'ROYAL SON', 'povty', 'HIPPON', 'ROYAL SON', 'Fastrack', 'IDEE', 'Rich Club', 'NuVew']\n",
      "Name_page3: ['Silver Kartz', 'hipe', 'Fastrack', 'ROYAL SON', 'kingsunglasses', 'ROYAL SON', 'PIRASO', 'ROYAL SON', 'New Specs', 'SUNBEE', 'Fastrack', 'ROYAL SON', 'SUNBEE', 'povty', 'ROYAL SON', 'ROYAL SON', 'NuVew', 'hipe', 'AISLIN', 'AISLIN']\n",
      "Combined list is :  ['ROZZETTA CRAFT', 'VINCENT CHASE', 'SRPM', 'SUNBEE', 'Elligator', 'PIRASO', 'Fastrack', 'Ray-Ban', 'DEIXELS', 'SHAAH COLLECTIONS', 'hipe', 'Ray-Ban', 'New Specs', 'SUNBEE', 'Lee Topper', 'Ray-Ban', 'Fastrack', 'SRPM', 'PIRASO', 'ROZZETTA CRAFT', 'PIRASO', 'PIRASO', 'kingsunglasses', 'ROZZETTA CRAFT', 'Lee Topper', 'kingsunglasses', 'GANSTA', 'ROYAL SON', 'SHAAH COLLECTIONS', 'Elligator', 'Silver Kartz', 'AISLIN', 'Elligator', 'PIRASO', 'ROYAL SON', 'Ray-Ban', 'kingsunglasses', 'PIRASO', 'SRPM', 'ROYAL SON', 'Fastrack', 'kingsunglasses', 'SUNBEE', 'ZOSTAL', 'Fastrack', 'ROYAL SON', 'Silver Kartz', 'AISLIN', 'ROYAL SON', 'Rich Club', 'kingsunglasses', 'CRYSTAL CART', 'Fravy', 'hipe', 'ROYAL SON', 'AISLIN', 'PIRASO', 'New Specs', 'kingsunglasses', 'AISLIN', 'Fastrack', 'hipe', 'SUNBEE', 'VINCENT CHASE', 'Fastrack', 'GANSTA', 'hipe', 'ROYAL SON', 'AISLIN', 'NuVew', 'SUNBEE', 'ROYAL SON', 'ROYAL SON', 'povty', 'HIPPON', 'ROYAL SON', 'Fastrack', 'IDEE', 'Rich Club', 'NuVew', 'Silver Kartz', 'hipe', 'Fastrack', 'ROYAL SON', 'kingsunglasses', 'ROYAL SON', 'PIRASO', 'ROYAL SON', 'New Specs', 'SUNBEE', 'Fastrack', 'ROYAL SON', 'SUNBEE', 'povty', 'ROYAL SON', 'ROYAL SON', 'NuVew', 'hipe', 'AISLIN', 'AISLIN']\n"
     ]
    }
   ],
   "source": [
    "#scrape 3rd page search button\n",
    "search_btn=driver.find_element_by_xpath('/html/body/div/div/div[3]/div[1]/div[2]/div[12]/div/div/nav/a[4]')\n",
    "search_btn\n",
    "\n",
    "search_btn.click()\n",
    "\n",
    "#scrape product name from page 3\n",
    "name_page3=driver.find_elements_by_xpath('//div[@class=\"_2WkVRV\"]')\n",
    "name_page3\n",
    "\n",
    "Name_page3=[]\n",
    "for i in name_page3:\n",
    "    Name_page3.append(i.text)\n",
    "Name_page3\n",
    "\n",
    "print(\"Product_Name:\",Product_Name)\n",
    "print(\"Name:\",Name)\n",
    "print(\"Name_page3:\",Name_page3[0:20])\n",
    "\n",
    "Brand_Name=Product_Name+Name+Name_page3[0:20]\n",
    "\n",
    "print(\"Combined list is : \",Brand_Name)\n"
   ]
  },
  {
   "cell_type": "code",
   "execution_count": 388,
   "id": "7fefe9e6",
   "metadata": {},
   "outputs": [
    {
     "data": {
      "text/plain": [
       "100"
      ]
     },
     "execution_count": 388,
     "metadata": {},
     "output_type": "execute_result"
    }
   ],
   "source": [
    "len(Brand_Name)"
   ]
  },
  {
   "cell_type": "code",
   "execution_count": 468,
   "id": "76156e58",
   "metadata": {},
   "outputs": [
    {
     "data": {
      "text/plain": [
       "['UV Protection, UV Protection Retro Square Sunglasses (F...',\n",
       " 'by Lenskart Polarized, UV Protection Round Sunglasses (...',\n",
       " 'UV Protection Wayfarer Sunglasses (50)',\n",
       " 'UV Protection, Polarized Wayfarer Sunglasses (Free Size...',\n",
       " 'UV Protection Round Sunglasses (54)',\n",
       " 'UV Protection Aviator Sunglasses (54)',\n",
       " 'Gradient, UV Protection Wayfarer Sunglasses (Free Size)',\n",
       " 'Gradient Round Sunglasses (54)',\n",
       " 'UV Protection Aviator, Wayfarer Sunglasses (Free Size)',\n",
       " 'UV Protection, Polarized, Mirrored Rectangular Sunglass...',\n",
       " 'UV Protection Aviator Sunglasses (Free Size)',\n",
       " 'UV Protection Round Sunglasses (50)',\n",
       " 'UV Protection Rectangular Sunglasses (Free Size)',\n",
       " 'UV Protection, Polarized, Mirrored Round Sunglasses (Fr...',\n",
       " 'Riding Glasses Wrap-around Sunglasses (Free Size)',\n",
       " 'Polarized Aviator Sunglasses (58)',\n",
       " 'UV Protection Rectangular Sunglasses (Free Size)',\n",
       " 'Others Wayfarer, Retro Square Sunglasses (50)',\n",
       " 'UV Protection Aviator Sunglasses (54)',\n",
       " 'UV Protection, Gradient Retro Square Sunglasses (Free S...',\n",
       " 'UV Protection Aviator Sunglasses (54)',\n",
       " 'UV Protection Wayfarer Sunglasses (32)',\n",
       " 'UV Protection, Riding Glasses, Mirrored Wayfarer Sungla...',\n",
       " 'Polarized, UV Protection Aviator Sunglasses (57)',\n",
       " 'UV Protection Rectangular Sunglasses (Free Size)',\n",
       " 'Mirrored, UV Protection Wayfarer Sunglasses (Free Size)',\n",
       " 'UV Protection, Riding Glasses Wayfarer Sunglasses (53)',\n",
       " 'UV Protection, Gradient Cat-eye Sunglasses (58)',\n",
       " 'UV Protection, Polarized, Mirrored Rectangular Sunglass...',\n",
       " 'UV Protection Round Sunglasses (53)',\n",
       " 'UV Protection Wayfarer Sunglasses (Free Size)',\n",
       " 'UV Protection Wayfarer Sunglasses (55)',\n",
       " 'UV Protection Aviator Sunglasses (55)',\n",
       " 'UV Protection Aviator Sunglasses (58)',\n",
       " 'Mirrored Aviator Sunglasses (55)',\n",
       " 'UV Protection Over-sized, Retro Square Sunglasses (61)',\n",
       " 'UV Protection Round Sunglasses (54)',\n",
       " 'UV Protection Butterfly Sunglasses (65)',\n",
       " 'UV Protection Wayfarer Sunglasses (53)',\n",
       " 'Polarized, UV Protection Round Sunglasses (52)']"
      ]
     },
     "execution_count": 468,
     "metadata": {},
     "output_type": "execute_result"
    }
   ],
   "source": [
    "\n",
    "#scrape product description from page 1\n",
    "des_page1=driver.find_elements_by_xpath('//a[@class=\"IRpwTa\"]|//a[@class=\"IRpwTa _2-ICcC\"]')\n",
    "des_page1\n",
    "\n",
    "Desc_1=[]\n",
    "for i in des_page1:\n",
    "    Desc_1.append(i.text)\n",
    "Desc_1"
   ]
  },
  {
   "cell_type": "code",
   "execution_count": 474,
   "id": "1f88a23f",
   "metadata": {},
   "outputs": [
    {
     "data": {
      "text/plain": [
       "['UV Protection, Mirrored Retro Square Sunglasses (53)',\n",
       " 'UV Protection, Night Vision Wayfarer Sunglasses (Free S...',\n",
       " 'Mirrored Aviator Sunglasses (Free Size)',\n",
       " 'Toughened Glass Lens, UV Protection Wrap-around, Rectan...',\n",
       " 'Polarized Round Sunglasses (48)',\n",
       " 'UV Protection Clubmaster Sunglasses (Free Size)',\n",
       " 'Mirrored, UV Protection Wayfarer, Rectangular Sunglasse...',\n",
       " 'UV Protection, Gradient Butterfly, Over-sized Sunglasse...',\n",
       " 'Polarized Round Sunglasses (48)',\n",
       " 'UV Protection Round Sunglasses (50)',\n",
       " 'UV Protection Butterfly Sunglasses (60)',\n",
       " 'UV Protection, Riding Glasses, Toughened Glass Lens, Gr...',\n",
       " 'UV Protection Rectangular Sunglasses (Free Size)',\n",
       " 'UV Protection Wayfarer Sunglasses (Free Size)',\n",
       " 'UV Protection Aviator Sunglasses (88)',\n",
       " 'UV Protection, Polarized Aviator Sunglasses (60)',\n",
       " 'UV Protection Aviator Sunglasses (57)',\n",
       " 'UV Protection Cat-eye Sunglasses (Free Size)',\n",
       " 'Mirrored, UV Protection, Gradient Round Sunglasses (55)',\n",
       " 'Polarized, UV Protection Aviator Sunglasses (57)',\n",
       " 'UV Protection, Gradient Rectangular Sunglasses (Free Si...',\n",
       " 'UV Protection, Gradient Wayfarer Sunglasses (55)',\n",
       " 'Mirrored Aviator Sunglasses (55)',\n",
       " 'UV Protection Over-sized Sunglasses (61)',\n",
       " 'UV Protection Retro Square, Round Sunglasses (54)',\n",
       " 'UV Protection, Riding Glasses Retro Square, Spectacle ...',\n",
       " 'UV Protection Sports Sunglasses (Free Size)',\n",
       " 'Polarized, UV Protection Wrap-around Sunglasses (62)',\n",
       " 'Mirrored, UV Protection Aviator Sunglasses (56)',\n",
       " 'UV Protection Rectangular Sunglasses (Free Size)',\n",
       " 'UV Protection Rectangular Sunglasses (58)',\n",
       " 'Polarized, UV Protection Round Sunglasses (59)',\n",
       " 'Polarized Aviator Sunglasses (Free Size)',\n",
       " 'UV Protection Round Sunglasses (48)',\n",
       " 'UV Protection, Mirrored Round Sunglasses (Free Size)',\n",
       " 'Polarized, UV Protection Wrap-around Sunglasses (62)',\n",
       " 'by Lenskart Polarized, UV Protection Wayfarer Sunglasse...',\n",
       " 'UV Protection Rectangular Sunglasses (55)',\n",
       " 'UV Protection, Gradient Round Sunglasses (Free Size)',\n",
       " 'Polarized, UV Protection Sports Sunglasses (68)']"
      ]
     },
     "execution_count": 474,
     "metadata": {},
     "output_type": "execute_result"
    }
   ],
   "source": [
    "#scrape 2nd page search button\n",
    "\n",
    "search_btn=driver.find_element_by_xpath('/html/body/div/div/div[3]/div[1]/div[2]/div[12]/div/div/nav/a[3]')\n",
    "search_btn\n",
    "\n",
    "search_btn.click()\n",
    "\n",
    "#scrape product description from page 2\n",
    "des_page2=driver.find_elements_by_xpath('//a[@class=\"IRpwTa\"]')\n",
    "des_page2\n",
    "\n",
    "Desc_2=[]\n",
    "for i in des_page2:\n",
    "    Desc_2.append(i.text)\n",
    "Desc_2"
   ]
  },
  {
   "cell_type": "code",
   "execution_count": 476,
   "id": "8d051cf9",
   "metadata": {},
   "outputs": [
    {
     "data": {
      "text/plain": [
       "['Mirrored Aviator Sunglasses (58)',\n",
       " 'Riding Glasses, UV Protection Oval Sunglasses (52)',\n",
       " 'UV Protection, Mirrored Clubmaster Sunglasses (Free Siz...',\n",
       " 'UV Protection, Gradient Over-sized Sunglasses (62)',\n",
       " 'UV Protection Aviator Sunglasses (Free Size)',\n",
       " 'Mirrored Round Sunglasses (53)',\n",
       " 'UV Protection Wayfarer Sunglasses (52)',\n",
       " 'Polarized, UV Protection Retro Square Sunglasses (61)',\n",
       " 'UV Protection, Others Round, Aviator Sunglasses (54)',\n",
       " 'UV Protection, Gradient, Night Vision Retro Square Sung...',\n",
       " 'Mirrored, Gradient, Riding Glasses Round Sunglasses (55...',\n",
       " 'Polarized Retro Square Sunglasses (61)',\n",
       " 'Polarized, UV Protection Wayfarer, Retro Square Sunglas...',\n",
       " 'UV Protection Oval Sunglasses (56)',\n",
       " 'UV Protection, Gradient, Mirrored, Riding Glasses Recta...',\n",
       " 'Polarized, UV Protection Aviator Sunglasses (57)',\n",
       " 'Polarized Retro Square Sunglasses (Free Size)',\n",
       " 'UV Protection, Mirrored Round Sunglasses (54)',\n",
       " 'UV Protection Retro Square Sunglasses (58)',\n",
       " 'UV Protection, Gradient Wayfarer, Round Sunglasses (63)']"
      ]
     },
     "execution_count": 476,
     "metadata": {},
     "output_type": "execute_result"
    }
   ],
   "source": [
    "#scrape 3rd page search button\n",
    "search_btn=driver.find_element_by_xpath('/html/body/div/div/div[3]/div[1]/div[2]/div[12]/div/div/nav/a[4]')\n",
    "search_btn\n",
    "\n",
    "search_btn.click()\n",
    "\n",
    "#scrape product description from page 3\n",
    "des_page3=driver.find_elements_by_xpath('//a[@class=\"IRpwTa\"]')\n",
    "des_page3\n",
    "\n",
    "Desc_3=[]\n",
    "for i in des_page3:\n",
    "    Desc_3.append(i.text)\n",
    "Desc_3[:20]\n"
   ]
  },
  {
   "cell_type": "code",
   "execution_count": 477,
   "id": "c8993b3a",
   "metadata": {},
   "outputs": [
    {
     "name": "stdout",
     "output_type": "stream",
     "text": [
      "Desc_1: ['UV Protection Rectangular Sunglasses (58)', 'by Lenskart Polarized, UV Protection Wayfarer Sunglasse...', 'Polarized Aviator Sunglasses (Free Size)', 'Gradient Round Sunglasses (54)', 'Riding Glasses, UV Protection Oval Sunglasses (52)', 'UV Protection Oval Sunglasses (56)', 'UV Protection, Others Round, Aviator Sunglasses (54)', 'UV Protection, Gradient Rectangular Sunglasses (Free Si...', 'Mirrored Aviator Sunglasses (55)', 'UV Protection Sports Sunglasses (62)', 'Mirrored Round Sunglasses (53)', 'UV Protection Rectangular Sunglasses (Free Size)', 'UV Protection Aviator Sunglasses (Free Size)', 'UV Protection, Mirrored Round Sunglasses (Free Size)', 'UV Protection Wayfarer Sunglasses (52)', 'Others Retro Square Sunglasses (Free Size)', 'UV Protection, Polarized, Mirrored Wayfarer Sunglasses ...', 'by Lenskart Polarized, UV Protection Round Sunglasses (...', 'UV Protection, Polarized, Mirrored Wayfarer Sunglasses ...', 'UV Protection Rectangular Sunglasses (55)', 'UV Protection, Gradient Aviator Sunglasses (50)', 'UV Protection Rectangular Sunglasses (Free Size)', 'UV Protection Round Sunglasses (52)', 'UV Protection, Polarized, Mirrored Wayfarer Sunglasses ...', 'UV Protection Aviator Sunglasses (58)', 'UV Protection, Mirrored Round Sunglasses (54)', 'Polarized Retro Square Sunglasses (Free Size)', 'Polarized, Night Vision, Riding Glasses Sports, Wrap-ar...', 'UV Protection, Riding Glasses Rectangular Sunglasses (F...', 'UV Protection, Gradient, Night Vision Retro Square Sung...', 'UV Protection Oval Sunglasses (Free Size)', 'UV Protection, Night Vision, Riding Glasses Aviator Sun...', 'UV Protection Wayfarer Sunglasses (56)', 'UV Protection, Gradient Retro Square Sunglasses (Free S...', 'UV Protection Cat-eye Sunglasses (17)', 'Night Vision, Riding Glasses Wayfarer Sunglasses (53)', 'UV Protection, Gradient Cat-eye Sunglasses (58)']\n",
      "Desc_2: ['UV Protection, Mirrored Retro Square Sunglasses (53)', 'UV Protection, Night Vision Wayfarer Sunglasses (Free S...', 'Mirrored Aviator Sunglasses (Free Size)', 'Toughened Glass Lens, UV Protection Wrap-around, Rectan...', 'Polarized Round Sunglasses (48)', 'UV Protection Clubmaster Sunglasses (Free Size)', 'Mirrored, UV Protection Wayfarer, Rectangular Sunglasse...', 'UV Protection, Gradient Butterfly, Over-sized Sunglasse...', 'Polarized Round Sunglasses (48)', 'UV Protection Round Sunglasses (50)', 'UV Protection Butterfly Sunglasses (60)', 'UV Protection, Riding Glasses, Toughened Glass Lens, Gr...', 'UV Protection Rectangular Sunglasses (Free Size)', 'UV Protection Wayfarer Sunglasses (Free Size)', 'UV Protection Aviator Sunglasses (88)', 'UV Protection, Polarized Aviator Sunglasses (60)', 'UV Protection Aviator Sunglasses (57)', 'UV Protection Cat-eye Sunglasses (Free Size)', 'Mirrored, UV Protection, Gradient Round Sunglasses (55)', 'Polarized, UV Protection Aviator Sunglasses (57)', 'UV Protection, Gradient Rectangular Sunglasses (Free Si...', 'UV Protection, Gradient Wayfarer Sunglasses (55)', 'Mirrored Aviator Sunglasses (55)', 'UV Protection Over-sized Sunglasses (61)', 'UV Protection Retro Square, Round Sunglasses (54)', 'UV Protection, Riding Glasses Retro Square, Spectacle ...', 'UV Protection Sports Sunglasses (Free Size)', 'Polarized, UV Protection Wrap-around Sunglasses (62)', 'Mirrored, UV Protection Aviator Sunglasses (56)', 'UV Protection Rectangular Sunglasses (Free Size)', 'UV Protection Rectangular Sunglasses (58)', 'Polarized, UV Protection Round Sunglasses (59)', 'Polarized Aviator Sunglasses (Free Size)', 'UV Protection Round Sunglasses (48)', 'UV Protection, Mirrored Round Sunglasses (Free Size)', 'Polarized, UV Protection Wrap-around Sunglasses (62)', 'by Lenskart Polarized, UV Protection Wayfarer Sunglasse...', 'UV Protection Rectangular Sunglasses (55)', 'UV Protection, Gradient Round Sunglasses (Free Size)', 'Polarized, UV Protection Sports Sunglasses (68)']\n",
      "Desc_3: ['Mirrored Aviator Sunglasses (58)', 'Riding Glasses, UV Protection Oval Sunglasses (52)', 'UV Protection, Mirrored Clubmaster Sunglasses (Free Siz...', 'UV Protection, Gradient Over-sized Sunglasses (62)', 'UV Protection Aviator Sunglasses (Free Size)', 'Mirrored Round Sunglasses (53)', 'UV Protection Wayfarer Sunglasses (52)', 'Polarized, UV Protection Retro Square Sunglasses (61)', 'UV Protection, Others Round, Aviator Sunglasses (54)', 'UV Protection, Gradient, Night Vision Retro Square Sung...', 'Mirrored, Gradient, Riding Glasses Round Sunglasses (55...', 'Polarized Retro Square Sunglasses (61)', 'Polarized, UV Protection Wayfarer, Retro Square Sunglas...', 'UV Protection Oval Sunglasses (56)', 'UV Protection, Gradient, Mirrored, Riding Glasses Recta...', 'Polarized, UV Protection Aviator Sunglasses (57)', 'Polarized Retro Square Sunglasses (Free Size)', 'UV Protection, Mirrored Round Sunglasses (54)', 'UV Protection Retro Square Sunglasses (58)', 'UV Protection, Gradient Wayfarer, Round Sunglasses (63)']\n",
      "Combined list is : ['UV Protection, UV Protection Retro Square Sunglasses (F...', 'by Lenskart Polarized, UV Protection Round Sunglasses (...', 'UV Protection Wayfarer Sunglasses (50)', 'UV Protection, Polarized Wayfarer Sunglasses (Free Size...', 'UV Protection Round Sunglasses (54)', 'UV Protection Aviator Sunglasses (54)', 'Gradient, UV Protection Wayfarer Sunglasses (Free Size)', 'Gradient Round Sunglasses (54)', 'UV Protection Aviator, Wayfarer Sunglasses (Free Size)', 'UV Protection, Polarized, Mirrored Rectangular Sunglass...', 'UV Protection Aviator Sunglasses (Free Size)', 'UV Protection Round Sunglasses (50)', 'UV Protection Rectangular Sunglasses (Free Size)', 'UV Protection, Polarized, Mirrored Round Sunglasses (Fr...', 'Riding Glasses Wrap-around Sunglasses (Free Size)', 'Polarized Aviator Sunglasses (58)', 'UV Protection Rectangular Sunglasses (Free Size)', 'Others Wayfarer, Retro Square Sunglasses (50)', 'UV Protection Aviator Sunglasses (54)', 'UV Protection, Gradient Retro Square Sunglasses (Free S...', 'UV Protection Aviator Sunglasses (54)', 'UV Protection Wayfarer Sunglasses (32)', 'UV Protection, Riding Glasses, Mirrored Wayfarer Sungla...', 'Polarized, UV Protection Aviator Sunglasses (57)', 'UV Protection Rectangular Sunglasses (Free Size)', 'Mirrored, UV Protection Wayfarer Sunglasses (Free Size)', 'UV Protection, Riding Glasses Wayfarer Sunglasses (53)', 'UV Protection, Gradient Cat-eye Sunglasses (58)', 'UV Protection, Polarized, Mirrored Rectangular Sunglass...', 'UV Protection Round Sunglasses (53)', 'UV Protection Wayfarer Sunglasses (Free Size)', 'UV Protection Wayfarer Sunglasses (55)', 'UV Protection Aviator Sunglasses (55)', 'UV Protection Aviator Sunglasses (58)', 'Mirrored Aviator Sunglasses (55)', 'UV Protection Over-sized, Retro Square Sunglasses (61)', 'UV Protection Round Sunglasses (54)', 'UV Protection Butterfly Sunglasses (65)', 'UV Protection Wayfarer Sunglasses (53)', 'Polarized, UV Protection Round Sunglasses (52)', 'UV Protection, Mirrored Retro Square Sunglasses (53)', 'UV Protection, Night Vision Wayfarer Sunglasses (Free S...', 'Mirrored Aviator Sunglasses (Free Size)', 'Toughened Glass Lens, UV Protection Wrap-around, Rectan...', 'Polarized Round Sunglasses (48)', 'UV Protection Clubmaster Sunglasses (Free Size)', 'Mirrored, UV Protection Wayfarer, Rectangular Sunglasse...', 'UV Protection, Gradient Butterfly, Over-sized Sunglasse...', 'Polarized Round Sunglasses (48)', 'UV Protection Round Sunglasses (50)', 'UV Protection Butterfly Sunglasses (60)', 'UV Protection, Riding Glasses, Toughened Glass Lens, Gr...', 'UV Protection Rectangular Sunglasses (Free Size)', 'UV Protection Wayfarer Sunglasses (Free Size)', 'UV Protection Aviator Sunglasses (88)', 'UV Protection, Polarized Aviator Sunglasses (60)', 'UV Protection Aviator Sunglasses (57)', 'UV Protection Cat-eye Sunglasses (Free Size)', 'Mirrored, UV Protection, Gradient Round Sunglasses (55)', 'Polarized, UV Protection Aviator Sunglasses (57)', 'UV Protection, Gradient Rectangular Sunglasses (Free Si...', 'UV Protection, Gradient Wayfarer Sunglasses (55)', 'Mirrored Aviator Sunglasses (55)', 'UV Protection Over-sized Sunglasses (61)', 'UV Protection Retro Square, Round Sunglasses (54)', 'UV Protection, Riding Glasses Retro Square, Spectacle ...', 'UV Protection Sports Sunglasses (Free Size)', 'Polarized, UV Protection Wrap-around Sunglasses (62)', 'Mirrored, UV Protection Aviator Sunglasses (56)', 'UV Protection Rectangular Sunglasses (Free Size)', 'UV Protection Rectangular Sunglasses (58)', 'Polarized, UV Protection Round Sunglasses (59)', 'Polarized Aviator Sunglasses (Free Size)', 'UV Protection Round Sunglasses (48)', 'UV Protection, Mirrored Round Sunglasses (Free Size)', 'Polarized, UV Protection Wrap-around Sunglasses (62)', 'by Lenskart Polarized, UV Protection Wayfarer Sunglasse...', 'UV Protection Rectangular Sunglasses (55)', 'UV Protection, Gradient Round Sunglasses (Free Size)', 'Polarized, UV Protection Sports Sunglasses (68)', 'Mirrored Aviator Sunglasses (58)', 'Riding Glasses, UV Protection Oval Sunglasses (52)', 'UV Protection, Mirrored Clubmaster Sunglasses (Free Siz...', 'UV Protection, Gradient Over-sized Sunglasses (62)', 'UV Protection Aviator Sunglasses (Free Size)', 'Mirrored Round Sunglasses (53)', 'UV Protection Wayfarer Sunglasses (52)', 'Polarized, UV Protection Retro Square Sunglasses (61)', 'UV Protection, Others Round, Aviator Sunglasses (54)', 'UV Protection, Gradient, Night Vision Retro Square Sung...', 'Mirrored, Gradient, Riding Glasses Round Sunglasses (55...', 'Polarized Retro Square Sunglasses (61)', 'Polarized, UV Protection Wayfarer, Retro Square Sunglas...', 'UV Protection Oval Sunglasses (56)', 'UV Protection, Gradient, Mirrored, Riding Glasses Recta...', 'Polarized, UV Protection Aviator Sunglasses (57)', 'Polarized Retro Square Sunglasses (Free Size)', 'UV Protection, Mirrored Round Sunglasses (54)', 'UV Protection Retro Square Sunglasses (58)', 'UV Protection, Gradient Wayfarer, Round Sunglasses (63)']\n"
     ]
    }
   ],
   "source": [
    "print(\"Desc_1:\",Desc1)\n",
    "print(\"Desc_2:\",Desc_2)\n",
    "print(\"Desc_3:\",Desc_3[0:20])\n",
    "\n",
    "Product_Description=Desc_1+Desc_2+Desc_3[0:20]\n",
    "\n",
    "print(\"Combined list is :\",Product_Description)"
   ]
  },
  {
   "cell_type": "code",
   "execution_count": 478,
   "id": "ae2b48a0",
   "metadata": {},
   "outputs": [
    {
     "data": {
      "text/plain": [
       "(40, 40, 40, 100)"
      ]
     },
     "execution_count": 478,
     "metadata": {},
     "output_type": "execute_result"
    }
   ],
   "source": [
    "len(Desc_1),len(Desc_2),len(Desc_3),len(Product_Description)"
   ]
  },
  {
   "cell_type": "code",
   "execution_count": 414,
   "id": "db9cfa0e",
   "metadata": {},
   "outputs": [
    {
     "data": {
      "text/plain": [
       "['₹181',\n",
       " '₹949',\n",
       " '₹148',\n",
       " '₹193',\n",
       " '₹208',\n",
       " '₹121',\n",
       " '₹629',\n",
       " '₹6,689',\n",
       " '₹152',\n",
       " '₹115',\n",
       " '₹129',\n",
       " '₹5,489',\n",
       " '₹182',\n",
       " '₹226',\n",
       " '₹225',\n",
       " '₹8,399',\n",
       " '₹629',\n",
       " '₹128',\n",
       " '₹137',\n",
       " '₹281',\n",
       " '₹137',\n",
       " '₹118',\n",
       " '₹134',\n",
       " '₹709',\n",
       " '₹149',\n",
       " '₹189',\n",
       " '₹148',\n",
       " '₹409',\n",
       " '₹131',\n",
       " '₹139',\n",
       " '₹196',\n",
       " '₹6,619',\n",
       " '₹321',\n",
       " '₹174',\n",
       " '₹329',\n",
       " '₹614',\n",
       " '₹136',\n",
       " '₹211',\n",
       " '₹170',\n",
       " '₹709']"
      ]
     },
     "execution_count": 414,
     "metadata": {},
     "output_type": "execute_result"
    }
   ],
   "source": [
    "#search page 1\n",
    "\n",
    "Page_1=driver.find_element_by_xpath('/html/body/div/div/div[3]/div[1]/div[2]/div[12]/div/div/nav/a[1]')\n",
    "Page_1\n",
    "\n",
    "Page_1.click()\n",
    "\n",
    "#scrape prices from page 1\n",
    "price_1=driver.find_elements_by_xpath('//div[@class=\"_30jeq3\"]')\n",
    "price_1\n",
    "\n",
    "Price_1=[]\n",
    "for i in price_1:\n",
    "    Price_1.append(i.text)\n",
    "Price_1\n",
    "\n",
    "\n"
   ]
  },
  {
   "cell_type": "code",
   "execution_count": 417,
   "id": "57f7bc63",
   "metadata": {},
   "outputs": [
    {
     "data": {
      "text/plain": [
       "['₹133',\n",
       " '₹174',\n",
       " '₹424',\n",
       " '₹409',\n",
       " '₹199',\n",
       " '₹267',\n",
       " '₹208',\n",
       " '₹409',\n",
       " '₹257',\n",
       " '₹125',\n",
       " '₹115',\n",
       " '₹599',\n",
       " '₹226',\n",
       " '₹211',\n",
       " '₹549',\n",
       " '₹135',\n",
       " '₹205',\n",
       " '₹226',\n",
       " '₹219',\n",
       " '₹749',\n",
       " '₹149',\n",
       " '₹231',\n",
       " '₹139',\n",
       " '₹637',\n",
       " '₹234',\n",
       " '₹849',\n",
       " '₹261',\n",
       " '₹249',\n",
       " '₹329',\n",
       " '₹167',\n",
       " '₹237',\n",
       " '₹225',\n",
       " '₹267',\n",
       " '₹349',\n",
       " '₹424',\n",
       " '₹804',\n",
       " '₹424',\n",
       " '₹959',\n",
       " '₹210',\n",
       " '₹345']"
      ]
     },
     "execution_count": 417,
     "metadata": {},
     "output_type": "execute_result"
    }
   ],
   "source": [
    "#search page 2\n",
    "Page_2=driver.find_element_by_xpath('/html/body/div/div/div[3]/div[1]/div[2]/div[12]/div/div/nav/a[3]')\n",
    "Page_2\n",
    "\n",
    "Page_2.click()\n",
    "\n",
    "#scrape prices from page 2\n",
    "price_2=driver.find_elements_by_xpath('//div[@class=\"_30jeq3\"]')\n",
    "price_2\n",
    "\n",
    "Price_2=[]\n",
    "for i in price_2:\n",
    "    Price_2.append(i.text)\n",
    "Price_2\n"
   ]
  },
  {
   "cell_type": "code",
   "execution_count": 419,
   "id": "1701f461",
   "metadata": {},
   "outputs": [
    {
     "data": {
      "text/plain": [
       "['₹130',\n",
       " '₹169',\n",
       " '₹1,549',\n",
       " '₹110',\n",
       " '₹325',\n",
       " '₹127',\n",
       " '₹257',\n",
       " '₹1,248',\n",
       " '₹292',\n",
       " '₹749',\n",
       " '₹179',\n",
       " '₹625',\n",
       " '₹229',\n",
       " '₹589',\n",
       " '₹113',\n",
       " '₹396',\n",
       " '₹193',\n",
       " '₹534',\n",
       " '₹329',\n",
       " '₹599']"
      ]
     },
     "execution_count": 419,
     "metadata": {},
     "output_type": "execute_result"
    }
   ],
   "source": [
    "#search page 3\n",
    "Page_3=driver.find_element_by_xpath('/html/body/div/div/div[3]/div[1]/div[2]/div[12]/div/div/nav/a[4]')\n",
    "Page_3\n",
    "\n",
    "Page_3.click()\n",
    "\n",
    "#scrape prices from page 1\n",
    "price_3=driver.find_elements_by_xpath('//div[@class=\"_30jeq3\"]')\n",
    "price_3\n",
    "\n",
    "Price_3=[]\n",
    "for i in price_3:\n",
    "    Price_3.append(i.text)\n",
    "Price_3[:20]"
   ]
  },
  {
   "cell_type": "code",
   "execution_count": 420,
   "id": "ab46d6ec",
   "metadata": {},
   "outputs": [
    {
     "name": "stdout",
     "output_type": "stream",
     "text": [
      "Price_1: ['₹181', '₹949', '₹148', '₹193', '₹208', '₹121', '₹629', '₹6,689', '₹152', '₹115', '₹129', '₹5,489', '₹182', '₹226', '₹225', '₹8,399', '₹629', '₹128', '₹137', '₹281', '₹137', '₹118', '₹134', '₹709', '₹149', '₹189', '₹148', '₹409', '₹131', '₹139', '₹196', '₹6,619', '₹321', '₹174', '₹329', '₹614', '₹136', '₹211', '₹170', '₹709']\n",
      "Price_2: ['₹133', '₹174', '₹424', '₹409', '₹199', '₹267', '₹208', '₹409', '₹257', '₹125', '₹115', '₹599', '₹226', '₹211', '₹549', '₹135', '₹205', '₹226', '₹219', '₹749', '₹149', '₹231', '₹139', '₹637', '₹234', '₹849', '₹261', '₹249', '₹329', '₹167', '₹237', '₹225', '₹267', '₹349', '₹424', '₹804', '₹424', '₹959', '₹210', '₹345']\n",
      "Price_3: ['₹130', '₹169', '₹1,549', '₹110', '₹325', '₹127', '₹257', '₹1,248', '₹292', '₹749', '₹179', '₹625', '₹229', '₹589', '₹113', '₹396', '₹193', '₹534', '₹329', '₹599']\n",
      "Combined list is :  ['₹181', '₹949', '₹148', '₹193', '₹208', '₹121', '₹629', '₹6,689', '₹152', '₹115', '₹129', '₹5,489', '₹182', '₹226', '₹225', '₹8,399', '₹629', '₹128', '₹137', '₹281', '₹137', '₹118', '₹134', '₹709', '₹149', '₹189', '₹148', '₹409', '₹131', '₹139', '₹196', '₹6,619', '₹321', '₹174', '₹329', '₹614', '₹136', '₹211', '₹170', '₹709', '₹133', '₹174', '₹424', '₹409', '₹199', '₹267', '₹208', '₹409', '₹257', '₹125', '₹115', '₹599', '₹226', '₹211', '₹549', '₹135', '₹205', '₹226', '₹219', '₹749', '₹149', '₹231', '₹139', '₹637', '₹234', '₹849', '₹261', '₹249', '₹329', '₹167', '₹237', '₹225', '₹267', '₹349', '₹424', '₹804', '₹424', '₹959', '₹210', '₹345', '₹130', '₹169', '₹1,549', '₹110', '₹325', '₹127', '₹257', '₹1,248', '₹292', '₹749', '₹179', '₹625', '₹229', '₹589', '₹113', '₹396', '₹193', '₹534', '₹329', '₹599']\n"
     ]
    }
   ],
   "source": [
    "print(\"Price_1:\",Price_1)\n",
    "print(\"Price_2:\",Price_2)\n",
    "print(\"Price_3:\",Price_3[0:20])\n",
    "\n",
    "Price=Price_1+Price_2+Price_3[0:20]\n",
    "\n",
    "print(\"Combined list is : \",Price)\n"
   ]
  },
  {
   "cell_type": "code",
   "execution_count": 421,
   "id": "f91e4c98",
   "metadata": {},
   "outputs": [
    {
     "data": {
      "text/plain": [
       "100"
      ]
     },
     "execution_count": 421,
     "metadata": {},
     "output_type": "execute_result"
    }
   ],
   "source": [
    "len(Price)"
   ]
  },
  {
   "cell_type": "code",
   "execution_count": 424,
   "id": "bfe8d0a2",
   "metadata": {},
   "outputs": [
    {
     "data": {
      "text/plain": [
       "['90% off',\n",
       " '53% off',\n",
       " '89% off',\n",
       " '85% off',\n",
       " '92% off',\n",
       " '92% off',\n",
       " '21% off',\n",
       " '26% off',\n",
       " '87% off',\n",
       " '93% off',\n",
       " '91% off',\n",
       " '26% off',\n",
       " '93% off',\n",
       " '87% off',\n",
       " '91% off',\n",
       " '11% off',\n",
       " '21% off',\n",
       " '87% off',\n",
       " '91% off',\n",
       " '86% off',\n",
       " '91% off',\n",
       " '93% off',\n",
       " '89% off',\n",
       " '65% off',\n",
       " '85% off',\n",
       " '91% off',\n",
       " '92% off',\n",
       " '73% off',\n",
       " '87% off',\n",
       " '86% off',\n",
       " '87% off',\n",
       " '26% off',\n",
       " '84% off',\n",
       " '93% off',\n",
       " '78% off',\n",
       " '69% off',\n",
       " '86% off',\n",
       " '92% off',\n",
       " '83% off',\n",
       " '65% off']"
      ]
     },
     "execution_count": 424,
     "metadata": {},
     "output_type": "execute_result"
    }
   ],
   "source": [
    "#search page 1\n",
    "\n",
    "Page_1=driver.find_element_by_xpath('/html/body/div/div/div[3]/div[1]/div[2]/div[12]/div/div/nav/a[1]')\n",
    "Page_1\n",
    "\n",
    "Page_1.click()\n",
    "\n",
    "#scrape prices from page 1\n",
    "dis_1=driver.find_elements_by_xpath('//div[@class=\"_3Ay6Sb\"]')\n",
    "dis_1\n",
    "\n",
    "Dis_1=[]\n",
    "for i in dis_1:\n",
    "    Dis_1.append(i.text)\n",
    "Dis_1"
   ]
  },
  {
   "cell_type": "code",
   "execution_count": 427,
   "id": "f9f09f05",
   "metadata": {},
   "outputs": [
    {
     "data": {
      "text/plain": [
       "['92% off',\n",
       " '89% off',\n",
       " '81% off',\n",
       " '77% off',\n",
       " '85% off',\n",
       " '87% off',\n",
       " '90% off',\n",
       " '70% off',\n",
       " '87% off',\n",
       " '75% off',\n",
       " '77% off',\n",
       " '63% off',\n",
       " '91% off',\n",
       " '92% off',\n",
       " '31% off',\n",
       " '80% off',\n",
       " '83% off',\n",
       " '87% off',\n",
       " '89% off',\n",
       " '75% off',\n",
       " '90% off',\n",
       " '82% off',\n",
       " '91% off',\n",
       " '89% off',\n",
       " '88% off',\n",
       " '15% off',\n",
       " '87% off',\n",
       " '60% off',\n",
       " '78% off',\n",
       " '83% off',\n",
       " '88% off',\n",
       " '76% off',\n",
       " '87% off',\n",
       " '83% off',\n",
       " '79% off',\n",
       " '88% off',\n",
       " '72% off',\n",
       " '20% off',\n",
       " '74% off',\n",
       " '77% off']"
      ]
     },
     "execution_count": 427,
     "metadata": {},
     "output_type": "execute_result"
    }
   ],
   "source": [
    "#search page 2\n",
    "\n",
    "Page_2=driver.find_element_by_xpath('/html/body/div/div/div[3]/div[1]/div[2]/div[12]/div/div/nav/a[3]')\n",
    "Page_2\n",
    "\n",
    "Page_2.click()\n",
    "\n",
    "#scrape prices from page 1\n",
    "dis_2=driver.find_elements_by_xpath('//div[@class=\"_3Ay6Sb\"]')\n",
    "dis_2\n",
    "\n",
    "Dis_2=[]\n",
    "for i in dis_2:\n",
    "    Dis_2.append(i.text)\n",
    "Dis_2"
   ]
  },
  {
   "cell_type": "code",
   "execution_count": 429,
   "id": "ab1376c6",
   "metadata": {},
   "outputs": [
    {
     "data": {
      "text/plain": [
       "['88% off',\n",
       " '87% off',\n",
       " '23% off',\n",
       " '89% off',\n",
       " '75% off',\n",
       " '90% off',\n",
       " '87% off',\n",
       " '66% off',\n",
       " '85% off',\n",
       " '70% off',\n",
       " '89% off',\n",
       " '76% off',\n",
       " '91% off',\n",
       " '26% off',\n",
       " '91% off',\n",
       " '74% off',\n",
       " '85% off',\n",
       " '33% off',\n",
       " '78% off',\n",
       " '77% off']"
      ]
     },
     "execution_count": 429,
     "metadata": {},
     "output_type": "execute_result"
    }
   ],
   "source": [
    "#search page 3\n",
    "\n",
    "Page_3=driver.find_element_by_xpath('/html/body/div/div/div[3]/div[1]/div[2]/div[12]/div/div/nav/a[4]')\n",
    "Page_3\n",
    "\n",
    "Page_3.click()\n",
    "\n",
    "#scrape prices from page 1\n",
    "dis_3=driver.find_elements_by_xpath('//div[@class=\"_3Ay6Sb\"]')\n",
    "dis_3\n",
    "\n",
    "Dis_3=[]\n",
    "for i in dis_3:\n",
    "    Dis_3.append(i.text)\n",
    "Dis_3[0:20]"
   ]
  },
  {
   "cell_type": "code",
   "execution_count": 430,
   "id": "a6d9c199",
   "metadata": {},
   "outputs": [
    {
     "name": "stdout",
     "output_type": "stream",
     "text": [
      "Dis_1: ['90% off', '53% off', '89% off', '85% off', '92% off', '92% off', '21% off', '26% off', '87% off', '93% off', '91% off', '26% off', '93% off', '87% off', '91% off', '11% off', '21% off', '87% off', '91% off', '86% off', '91% off', '93% off', '89% off', '65% off', '85% off', '91% off', '92% off', '73% off', '87% off', '86% off', '87% off', '26% off', '84% off', '93% off', '78% off', '69% off', '86% off', '92% off', '83% off', '65% off']\n",
      "Dis_2: ['92% off', '89% off', '81% off', '77% off', '85% off', '87% off', '90% off', '70% off', '87% off', '75% off', '77% off', '63% off', '91% off', '92% off', '31% off', '80% off', '83% off', '87% off', '89% off', '75% off', '90% off', '82% off', '91% off', '89% off', '88% off', '15% off', '87% off', '60% off', '78% off', '83% off', '88% off', '76% off', '87% off', '83% off', '79% off', '88% off', '72% off', '20% off', '74% off', '77% off']\n",
      "Dis_3: ['88% off', '87% off', '23% off', '89% off', '75% off', '90% off', '87% off', '66% off', '85% off', '70% off', '89% off', '76% off', '91% off', '26% off', '91% off', '74% off', '85% off', '33% off', '78% off', '77% off']\n",
      "Combined list is :  ['90% off', '53% off', '89% off', '85% off', '92% off', '92% off', '21% off', '26% off', '87% off', '93% off', '91% off', '26% off', '93% off', '87% off', '91% off', '11% off', '21% off', '87% off', '91% off', '86% off', '91% off', '93% off', '89% off', '65% off', '85% off', '91% off', '92% off', '73% off', '87% off', '86% off', '87% off', '26% off', '84% off', '93% off', '78% off', '69% off', '86% off', '92% off', '83% off', '65% off', '92% off', '89% off', '81% off', '77% off', '85% off', '87% off', '90% off', '70% off', '87% off', '75% off', '77% off', '63% off', '91% off', '92% off', '31% off', '80% off', '83% off', '87% off', '89% off', '75% off', '90% off', '82% off', '91% off', '89% off', '88% off', '15% off', '87% off', '60% off', '78% off', '83% off', '88% off', '76% off', '87% off', '83% off', '79% off', '88% off', '72% off', '20% off', '74% off', '77% off', '88% off', '87% off', '23% off', '89% off', '75% off', '90% off', '87% off', '66% off', '85% off', '70% off', '89% off', '76% off', '91% off', '26% off', '91% off', '74% off', '85% off', '33% off', '78% off', '77% off']\n"
     ]
    }
   ],
   "source": [
    "print(\"Dis_1:\",Dis_1)\n",
    "print(\"Dis_2:\",Dis_2)\n",
    "print(\"Dis_3:\",Dis_3[0:20])\n",
    "\n",
    "Discount=Dis_1+Dis_2+Dis_3[0:20]\n",
    "\n",
    "print(\"Combined list is : \",Discount)\n"
   ]
  },
  {
   "cell_type": "code",
   "execution_count": 431,
   "id": "34e8a2f8",
   "metadata": {},
   "outputs": [
    {
     "data": {
      "text/plain": [
       "100"
      ]
     },
     "execution_count": 431,
     "metadata": {},
     "output_type": "execute_result"
    }
   ],
   "source": [
    "len(Discount)"
   ]
  },
  {
   "cell_type": "code",
   "execution_count": 480,
   "id": "8ef47bb4",
   "metadata": {},
   "outputs": [
    {
     "data": {
      "text/html": [
       "<div>\n",
       "<style scoped>\n",
       "    .dataframe tbody tr th:only-of-type {\n",
       "        vertical-align: middle;\n",
       "    }\n",
       "\n",
       "    .dataframe tbody tr th {\n",
       "        vertical-align: top;\n",
       "    }\n",
       "\n",
       "    .dataframe thead th {\n",
       "        text-align: right;\n",
       "    }\n",
       "</style>\n",
       "<table border=\"1\" class=\"dataframe\">\n",
       "  <thead>\n",
       "    <tr style=\"text-align: right;\">\n",
       "      <th></th>\n",
       "      <th>Brand_Name</th>\n",
       "      <th>Product_Description</th>\n",
       "      <th>Price</th>\n",
       "      <th>Discount</th>\n",
       "    </tr>\n",
       "  </thead>\n",
       "  <tbody>\n",
       "    <tr>\n",
       "      <th>0</th>\n",
       "      <td>ROZZETTA CRAFT</td>\n",
       "      <td>UV Protection, UV Protection Retro Square Sung...</td>\n",
       "      <td>₹181</td>\n",
       "      <td>90% off</td>\n",
       "    </tr>\n",
       "    <tr>\n",
       "      <th>1</th>\n",
       "      <td>VINCENT CHASE</td>\n",
       "      <td>by Lenskart Polarized, UV Protection Round Sun...</td>\n",
       "      <td>₹949</td>\n",
       "      <td>53% off</td>\n",
       "    </tr>\n",
       "    <tr>\n",
       "      <th>2</th>\n",
       "      <td>SRPM</td>\n",
       "      <td>UV Protection Wayfarer Sunglasses (50)</td>\n",
       "      <td>₹148</td>\n",
       "      <td>89% off</td>\n",
       "    </tr>\n",
       "    <tr>\n",
       "      <th>3</th>\n",
       "      <td>SUNBEE</td>\n",
       "      <td>UV Protection, Polarized Wayfarer Sunglasses (...</td>\n",
       "      <td>₹193</td>\n",
       "      <td>85% off</td>\n",
       "    </tr>\n",
       "    <tr>\n",
       "      <th>4</th>\n",
       "      <td>Elligator</td>\n",
       "      <td>UV Protection Round Sunglasses (54)</td>\n",
       "      <td>₹208</td>\n",
       "      <td>92% off</td>\n",
       "    </tr>\n",
       "    <tr>\n",
       "      <th>...</th>\n",
       "      <td>...</td>\n",
       "      <td>...</td>\n",
       "      <td>...</td>\n",
       "      <td>...</td>\n",
       "    </tr>\n",
       "    <tr>\n",
       "      <th>95</th>\n",
       "      <td>ROYAL SON</td>\n",
       "      <td>Polarized, UV Protection Aviator Sunglasses (57)</td>\n",
       "      <td>₹396</td>\n",
       "      <td>74% off</td>\n",
       "    </tr>\n",
       "    <tr>\n",
       "      <th>96</th>\n",
       "      <td>NuVew</td>\n",
       "      <td>Polarized Retro Square Sunglasses (Free Size)</td>\n",
       "      <td>₹193</td>\n",
       "      <td>85% off</td>\n",
       "    </tr>\n",
       "    <tr>\n",
       "      <th>97</th>\n",
       "      <td>hipe</td>\n",
       "      <td>UV Protection, Mirrored Round Sunglasses (54)</td>\n",
       "      <td>₹534</td>\n",
       "      <td>33% off</td>\n",
       "    </tr>\n",
       "    <tr>\n",
       "      <th>98</th>\n",
       "      <td>AISLIN</td>\n",
       "      <td>UV Protection Retro Square Sunglasses (58)</td>\n",
       "      <td>₹329</td>\n",
       "      <td>78% off</td>\n",
       "    </tr>\n",
       "    <tr>\n",
       "      <th>99</th>\n",
       "      <td>AISLIN</td>\n",
       "      <td>UV Protection, Gradient Wayfarer, Round Sungla...</td>\n",
       "      <td>₹599</td>\n",
       "      <td>77% off</td>\n",
       "    </tr>\n",
       "  </tbody>\n",
       "</table>\n",
       "<p>100 rows × 4 columns</p>\n",
       "</div>"
      ],
      "text/plain": [
       "        Brand_Name                                Product_Description Price  \\\n",
       "0   ROZZETTA CRAFT  UV Protection, UV Protection Retro Square Sung...  ₹181   \n",
       "1    VINCENT CHASE  by Lenskart Polarized, UV Protection Round Sun...  ₹949   \n",
       "2             SRPM             UV Protection Wayfarer Sunglasses (50)  ₹148   \n",
       "3           SUNBEE  UV Protection, Polarized Wayfarer Sunglasses (...  ₹193   \n",
       "4        Elligator                UV Protection Round Sunglasses (54)  ₹208   \n",
       "..             ...                                                ...   ...   \n",
       "95       ROYAL SON   Polarized, UV Protection Aviator Sunglasses (57)  ₹396   \n",
       "96           NuVew      Polarized Retro Square Sunglasses (Free Size)  ₹193   \n",
       "97            hipe      UV Protection, Mirrored Round Sunglasses (54)  ₹534   \n",
       "98          AISLIN         UV Protection Retro Square Sunglasses (58)  ₹329   \n",
       "99          AISLIN  UV Protection, Gradient Wayfarer, Round Sungla...  ₹599   \n",
       "\n",
       "   Discount  \n",
       "0   90% off  \n",
       "1   53% off  \n",
       "2   89% off  \n",
       "3   85% off  \n",
       "4   92% off  \n",
       "..      ...  \n",
       "95  74% off  \n",
       "96  85% off  \n",
       "97  33% off  \n",
       "98  78% off  \n",
       "99  77% off  \n",
       "\n",
       "[100 rows x 4 columns]"
      ]
     },
     "execution_count": 480,
     "metadata": {},
     "output_type": "execute_result"
    }
   ],
   "source": [
    "sunglasses=pd.DataFrame({})\n",
    "sunglasses['Brand_Name']=Brand_Name\n",
    "sunglasses['Product_Description']=Product_Description\n",
    "sunglasses['Price']=Price\n",
    "sunglasses['Discount']=Discount\n",
    "sunglasses"
   ]
  },
  {
   "cell_type": "code",
   "execution_count": null,
   "id": "8ea10fe8",
   "metadata": {},
   "outputs": [],
   "source": []
  },
  {
   "cell_type": "code",
   "execution_count": null,
   "id": "99e7dd74",
   "metadata": {},
   "outputs": [],
   "source": []
  },
  {
   "cell_type": "code",
   "execution_count": null,
   "id": "05438a72",
   "metadata": {},
   "outputs": [],
   "source": []
  }
 ],
 "metadata": {
  "kernelspec": {
   "display_name": "Python 3",
   "language": "python",
   "name": "python3"
  },
  "language_info": {
   "codemirror_mode": {
    "name": "ipython",
    "version": 3
   },
   "file_extension": ".py",
   "mimetype": "text/x-python",
   "name": "python",
   "nbconvert_exporter": "python",
   "pygments_lexer": "ipython3",
   "version": "3.8.8"
  }
 },
 "nbformat": 4,
 "nbformat_minor": 5
}
